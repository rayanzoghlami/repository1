{
  "nbformat": 4,
  "nbformat_minor": 0,
  "metadata": {
    "colab": {
      "provenance": [],
      "include_colab_link": true
    },
    "kernelspec": {
      "name": "python3",
      "display_name": "Python 3"
    },
    "language_info": {
      "name": "python"
    }
  },
  "cells": [
    {
      "cell_type": "markdown",
      "metadata": {
        "id": "view-in-github",
        "colab_type": "text"
      },
      "source": [
        "<a href=\"https://colab.research.google.com/github/rayanzoghlami/repository1/blob/main/bn_dashboard.ipynb\" target=\"_parent\"><img src=\"https://colab.research.google.com/assets/colab-badge.svg\" alt=\"Open In Colab\"/></a>"
      ]
    },
    {
      "cell_type": "code",
      "execution_count": null,
      "metadata": {
        "id": "yM4Il6A4hXRI"
      },
      "outputs": [],
      "source": [
        "import streamlit as st\n",
        "import yfinance as yf\n",
        "import matplotlib.pyplot as plt\n",
        "import matplotlib.dates as mdates\n",
        "\n",
        "# Page Title\n",
        "st.set_page_config(page_title=\"BN.TO Stock Dashboard\", layout=\"centered\")\n",
        "\n",
        "\n",
        "# Header\n",
        "st.title(\"Brookfield Corporation (BN.TO) Stock Dashboard\")\n",
        "\n",
        "# Fetch data\n",
        "ticker = yf.Ticker(\"BN.TO\")\n",
        "hist = ticker.history(period=\"1y\")\n",
        "info = ticker.info\n",
        "\n",
        "# Plot TTM data\n",
        "fig, ax = plt.subplots(figsize=(10, 4))\n",
        "ax.plot(hist.index, hist['Close'], label=\"Closing Price\", linewidth=2)\n",
        "ax.xaxis.set_major_locator(mdates.MonthLocator(bymonth=[1, 4, 7, 10]))\n",
        "ax.xaxis.set_major_formatter(mdates.DateFormatter('%b %Y'))\n",
        "ax.set_title(\"Past 12 Months of Closing Prices\")\n",
        "ax.set_xlabel(\"Date\")\n",
        "ax.set_ylabel(\"Price (CAD)\")\n",
        "ax.grid(True)\n",
        "ax.legend()\n",
        "st.pyplot(fig)\n",
        "\n",
        "# Get and print key info\n",
        "def format_dollars(value):\n",
        "    if value is None:\n",
        "        return \"N/A\"\n",
        "    return \"${:,.0f}\".format(value)\n",
        "\n",
        "def format_number(value):\n",
        "    if value is None:\n",
        "        return \"N/A\"\n",
        "    return f\"{value:.2f}\"\n",
        "\n",
        "st.subheader(\"Key Stats\")\n",
        "st.write({\n",
        "    \"Current Price\": format_dollars(info.get(\"currentPrice\")),\n",
        "    \"Market Cap\": format_dollars(info.get(\"marketCap\")),\n",
        "    \"PE Ratio (TTM)\": format_number(info.get(\"trailingPE\")),\n",
        "    \"Forward PE\": format_number(info.get(\"forwardPE\")),\n",
        "    \"EPS (TTM)\": format_number(info.get(\"trailingEps\")),\n",
        "    \"Dividend Yield\": format_number(info.get(\"dividendYield\")),\n",
        "    \"52 Week High\": format_dollars(info.get(\"fiftyTwoWeekHigh\")),\n",
        "    \"52 Week Low\": format_dollars(info.get(\"fiftyTwoWeekLow\")),\n",
        "    \"Currency\": info.get(\"currency\"),\n",
        "})"
      ]
    },
    {
      "cell_type": "code",
      "source": [],
      "metadata": {
        "id": "Quhzx1mmZcR-"
      },
      "execution_count": null,
      "outputs": []
    }
  ]
}